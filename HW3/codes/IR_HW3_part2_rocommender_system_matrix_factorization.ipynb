{
  "cells": [
    {
      "cell_type": "code",
      "source": [
        "import gdown\n",
        "\n",
        "url = 'https://drive.google.com/uc?id=1moaGNpmZjjN0XH0dcTOybEz8NVS00x-6'\n",
        "output = 'train_dataset.txt'\n",
        "gdown.download(url, output, quiet=False)\n",
        "\n",
        "url = 'https://drive.google.com/uc?id=19ajg9r-QMvDBuVDxBne4Y-vIzSqauAHS'\n",
        "output = 'test_dataset.txt'\n",
        "gdown.download(url, output, quiet=False)"
      ],
      "metadata": {
        "colab": {
          "base_uri": "https://localhost:8080/",
          "height": 174
        },
        "id": "teYE5-I2J09V",
        "outputId": "aa5f0644-9508-4526-ec69-1873d3ea687f"
      },
      "execution_count": 23,
      "outputs": [
        {
          "output_type": "stream",
          "name": "stderr",
          "text": [
            "Downloading...\n",
            "From: https://drive.google.com/uc?id=1moaGNpmZjjN0XH0dcTOybEz8NVS00x-6\n",
            "To: /content/train_dataset.txt\n",
            "100%|██████████| 17.0M/17.0M [00:00<00:00, 96.2MB/s]\n",
            "Downloading...\n",
            "From: https://drive.google.com/uc?id=19ajg9r-QMvDBuVDxBne4Y-vIzSqauAHS\n",
            "To: /content/test_dataset.txt\n",
            "100%|██████████| 4.25M/4.25M [00:00<00:00, 158MB/s]\n"
          ]
        },
        {
          "output_type": "execute_result",
          "data": {
            "text/plain": [
              "'test_dataset.txt'"
            ],
            "application/vnd.google.colaboratory.intrinsic+json": {
              "type": "string"
            }
          },
          "metadata": {},
          "execution_count": 23
        }
      ]
    },
    {
      "cell_type": "code",
      "source": [
        "display(output)"
      ],
      "metadata": {
        "colab": {
          "base_uri": "https://localhost:8080/",
          "height": 35
        },
        "id": "aJjJF2FrJ8XN",
        "outputId": "4303a8da-63b1-401c-a9da-9149b1a714e2"
      },
      "execution_count": 24,
      "outputs": [
        {
          "output_type": "display_data",
          "data": {
            "text/plain": [
              "'test_dataset.txt'"
            ],
            "application/vnd.google.colaboratory.intrinsic+json": {
              "type": "string"
            }
          },
          "metadata": {}
        }
      ]
    },
    {
      "cell_type": "code",
      "source": [
        "import csv\n",
        "from scipy.sparse import csr_matrix\n",
        "\n",
        "num_records = 0\n",
        "record = []\n",
        "with open('train_dataset.txt', 'r', encoding='utf-8') as file:\n",
        "    reader = csv.reader(file, delimiter='\\t', quoting=csv.QUOTE_ALL, quotechar='\"')\n",
        "    next(reader) # Skip the first line\n",
        "    for row in reader:\n",
        "        if len(row) == 4:\n",
        "            record.append(row)"
      ],
      "metadata": {
        "id": "vKZLXt4MNv4O"
      },
      "execution_count": 25,
      "outputs": []
    },
    {
      "cell_type": "code",
      "source": [
        "print(len(record))"
      ],
      "metadata": {
        "colab": {
          "base_uri": "https://localhost:8080/"
        },
        "id": "GAcfkeR4Nxdc",
        "outputId": "93a65b15-b17f-4da1-efb5-cee86773fb94"
      },
      "execution_count": 26,
      "outputs": [
        {
          "output_type": "stream",
          "name": "stdout",
          "text": [
            "23038\n"
          ]
        }
      ]
    },
    {
      "cell_type": "code",
      "source": [
        "# Get unique users and items\n",
        "unique_users = list(set([row[0] for row in record]))\n",
        "unique_items = list(set([row[1] for row in record]))\n",
        "\n",
        "# Create mappings from user_id and item_id to row and column indices\n",
        "user_mapping = {user: index for index, user in enumerate(unique_users)}\n",
        "item_mapping = {item: index for index, item in enumerate(unique_items)}\n",
        "\n",
        "# Map user_id and item_id to row and column indices\n",
        "record = [[user_mapping[row[0]], item_mapping[row[1]], row[2], row[3]] for row in record]\n",
        "\n",
        "# Separate the ratings and review texts\n",
        "ratings = [float(row[2]) for row in record]\n",
        "\n",
        "# Create a sparse matrix for the ratings\n",
        "r = csr_matrix((ratings, ([record[i][0] for i in range(len(record))], [record[i][1] for i in range(len(record))])))\n",
        "R_matrix = r.toarray()\n",
        "print(f'Number of records: {num_records}')\n",
        "print(f'R matrix: \\n{R_matrix}')"
      ],
      "metadata": {
        "colab": {
          "base_uri": "https://localhost:8080/"
        },
        "id": "6SLV1uUPNTrs",
        "outputId": "8a4298d6-cf6f-40fa-9f41-af95cbe6e2c8"
      },
      "execution_count": 27,
      "outputs": [
        {
          "output_type": "stream",
          "name": "stdout",
          "text": [
            "Number of records: 0\n",
            "R matrix: \n",
            "[[1. 0. 0. ... 0. 0. 0.]\n",
            " [0. 0. 0. ... 0. 0. 0.]\n",
            " [1. 0. 0. ... 0. 0. 0.]\n",
            " ...\n",
            " [0. 0. 0. ... 0. 0. 0.]\n",
            " [0. 0. 0. ... 0. 0. 0.]\n",
            " [0. 0. 0. ... 0. 0. 0.]]\n"
          ]
        }
      ]
    },
    {
      "cell_type": "code",
      "source": [
        "print(r)\n",
        "print(R_matrix.size)"
      ],
      "metadata": {
        "colab": {
          "base_uri": "https://localhost:8080/"
        },
        "id": "cx66y2vbHdux",
        "outputId": "466d12b7-eacb-48cd-f3ad-a5b031cb0150"
      },
      "execution_count": 28,
      "outputs": [
        {
          "output_type": "stream",
          "name": "stdout",
          "text": [
            "  (0, 0)\t1.0\n",
            "  (0, 18)\t1.0\n",
            "  (0, 24)\t1.0\n",
            "  (0, 36)\t1.0\n",
            "  (0, 43)\t1.0\n",
            "  (0, 60)\t1.0\n",
            "  (0, 69)\t1.0\n",
            "  (0, 70)\t1.0\n",
            "  (0, 71)\t1.0\n",
            "  (0, 93)\t1.0\n",
            "  (0, 101)\t1.0\n",
            "  (0, 125)\t1.0\n",
            "  (0, 127)\t1.0\n",
            "  (0, 141)\t1.0\n",
            "  (0, 149)\t1.0\n",
            "  (0, 157)\t1.0\n",
            "  (0, 193)\t1.0\n",
            "  (0, 199)\t1.0\n",
            "  (0, 218)\t1.0\n",
            "  (0, 220)\t1.0\n",
            "  (0, 225)\t1.0\n",
            "  (0, 228)\t1.0\n",
            "  (0, 282)\t1.0\n",
            "  (0, 321)\t1.0\n",
            "  (0, 393)\t1.0\n",
            "  :\t:\n",
            "  (1337, 521)\t1.0\n",
            "  (1337, 528)\t1.0\n",
            "  (1337, 535)\t1.0\n",
            "  (1337, 598)\t1.0\n",
            "  (1337, 665)\t1.0\n",
            "  (1337, 670)\t1.0\n",
            "  (1337, 713)\t1.0\n",
            "  (1338, 13)\t1.0\n",
            "  (1338, 88)\t1.0\n",
            "  (1338, 174)\t1.0\n",
            "  (1338, 268)\t1.0\n",
            "  (1338, 323)\t1.0\n",
            "  (1338, 345)\t1.0\n",
            "  (1338, 479)\t1.0\n",
            "  (1338, 598)\t1.0\n",
            "  (1338, 676)\t1.0\n",
            "  (1338, 693)\t1.0\n",
            "  (1339, 44)\t1.0\n",
            "  (1339, 144)\t1.0\n",
            "  (1339, 167)\t1.0\n",
            "  (1339, 181)\t1.0\n",
            "  (1339, 325)\t1.0\n",
            "  (1339, 326)\t1.0\n",
            "  (1339, 442)\t1.0\n",
            "  (1339, 542)\t1.0\n",
            "982220\n"
          ]
        }
      ]
    },
    {
      "cell_type": "code",
      "source": [
        "print(len(unique_users))\n",
        "print(len(unique_items))"
      ],
      "metadata": {
        "colab": {
          "base_uri": "https://localhost:8080/"
        },
        "id": "-m9CRkCROZfY",
        "outputId": "2da8f35b-d8fa-48d4-b049-11db5dba69a9"
      },
      "execution_count": 29,
      "outputs": [
        {
          "output_type": "stream",
          "name": "stdout",
          "text": [
            "1340\n",
            "733\n"
          ]
        }
      ]
    },
    {
      "cell_type": "code",
      "execution_count": 30,
      "metadata": {
        "colab": {
          "base_uri": "https://localhost:8080/"
        },
        "id": "y5TZMw4CAAUx",
        "outputId": "0018d82b-d995-413a-e665-8e4cd420c503"
      },
      "outputs": [
        {
          "output_type": "stream",
          "name": "stdout",
          "text": [
            "23038\n"
          ]
        }
      ],
      "source": [
        "print(len(record))"
      ]
    },
    {
      "cell_type": "code",
      "execution_count": 31,
      "metadata": {
        "id": "rXxpTvFP5xte",
        "colab": {
          "base_uri": "https://localhost:8080/",
          "height": 139
        },
        "outputId": "671d4f14-b68e-4bcf-a254-6b12dabdac18"
      },
      "outputs": [
        {
          "output_type": "display_data",
          "data": {
            "text/plain": [
              "array([[1., 0., 0., ..., 0., 0., 0.],\n",
              "       [0., 0., 0., ..., 0., 0., 0.],\n",
              "       [1., 0., 0., ..., 0., 0., 0.],\n",
              "       ...,\n",
              "       [0., 0., 0., ..., 0., 0., 0.],\n",
              "       [0., 0., 0., ..., 0., 0., 0.],\n",
              "       [0., 0., 0., ..., 0., 0., 0.]])"
            ]
          },
          "metadata": {}
        }
      ],
      "source": [
        "display(R_matrix)"
      ]
    },
    {
      "cell_type": "code",
      "execution_count": 32,
      "metadata": {
        "id": "pPF6m6CW3yWM"
      },
      "outputs": [],
      "source": [
        "import numpy as np\n",
        "from tqdm import tqdm\n",
        "\n",
        "class MatrixFactorization:\n",
        "    def __init__(self, num_items, num_users, num_factors, learning_rate, regularization_rate, num_iterations):\n",
        "\n",
        "        self.num_items = num_items\n",
        "        self.num_users = num_users\n",
        "        self.num_factors = num_factors\n",
        "        self.learning_rate = learning_rate\n",
        "        self.regularization_rate = regularization_rate\n",
        "        self.num_iterations = num_iterations\n",
        "\n",
        "        # Initialize Q and P matrices with random values\n",
        "\n",
        "        self.Q = np.random.randn(num_items, num_factors)\n",
        "        self.P = np.random.randn(num_users, num_factors)\n",
        "\n",
        "\n",
        "    def update_parameters(self, R):\n",
        "\n",
        "\n",
        "        for iterate in tqdm(range(self.num_iterations), desc=\"iteration\"):\n",
        "           for u in range(self.num_users) :\n",
        "            interaction_items = np.where(R[u] > 0)[0]\n",
        "\n",
        "            for i in interaction_items:\n",
        "\n",
        "                riu = R[u, i]\n",
        "\n",
        "                qi = self.Q[i]\n",
        "                pu = self.P[u]\n",
        "\n",
        "                error_of_predict = riu - qi.dot(pu.T)\n",
        "                #stochastic gradiant discent\n",
        "\n",
        "                # Update Q[i]\n",
        "                Q_gradient = ( error_of_predict * pu.T + 2 * self.regularization_rate * self.Q[i])\n",
        "                self.Q[i] -= self.learning_rate * Q_gradient\n",
        "\n",
        "                # Update P[u]\n",
        "                P_gradient = ( error_of_predict * qi + 2 * self.regularization_rate * self.P[u])\n",
        "                self.P[u] -= self.learning_rate * P_gradient\n",
        "        print(self.P)\n",
        "        print(self.Q)\n",
        "\n",
        "\n",
        "    def train(self, R):\n",
        "\n",
        "        self.update_parameters(R)\n",
        "\n",
        "\n",
        "    def get_P(self):\n",
        "      return self.P\n",
        "\n",
        "    def get_Q(self):\n",
        "      return self.Q\n"
      ]
    },
    {
      "cell_type": "code",
      "source": [
        "num_items = len(unique_items)\n",
        "num_users = len(unique_users)\n",
        "num_factors = 64\n",
        "learning_rate = 0.001\n",
        "regularization_rate = 0.001\n",
        "num_iterations = 3"
      ],
      "metadata": {
        "id": "bV96WO8sT6mD"
      },
      "execution_count": 33,
      "outputs": []
    },
    {
      "cell_type": "code",
      "source": [
        "model = MatrixFactorization(num_items, num_users, num_factors, learning_rate, regularization_rate,\n",
        "                            num_iterations)\n",
        "\n",
        "model.train(R_matrix)"
      ],
      "metadata": {
        "id": "aUMDX2RO8mEd",
        "colab": {
          "base_uri": "https://localhost:8080/"
        },
        "outputId": "a72717dd-2fa3-47f6-a731-735dcf074a27"
      },
      "execution_count": 34,
      "outputs": [
        {
          "output_type": "stream",
          "name": "stderr",
          "text": [
            "iteration: 100%|██████████| 3/3 [00:01<00:00,  1.58it/s]"
          ]
        },
        {
          "output_type": "stream",
          "name": "stdout",
          "text": [
            "[[ 3.51783075  0.6064245  -2.02292506 ...  0.20976236  0.69345381\n",
            "  -0.02856046]\n",
            " [ 1.96695074  0.52657848  0.70755064 ...  0.71969507 -0.97452265\n",
            "   1.66378828]\n",
            " [ 2.54970684 -0.72120447 -1.82232335 ...  1.32900908  1.20204859\n",
            "   1.29135903]\n",
            " ...\n",
            " [-1.0720609  -1.23200448 -0.49738717 ...  0.08282212 -0.74619024\n",
            "  -0.22874953]\n",
            " [-0.12054816 -0.64567823  1.37858362 ... -1.20786202 -2.34327876\n",
            "  -0.69787985]\n",
            " [ 1.44470751 -0.13274001  0.01391308 ... -0.31950018 -0.76452019\n",
            "  -0.28451078]]\n",
            "[[-2.38967811  0.19361862 -1.44360406 ...  1.82344941  2.39312369\n",
            "   0.57796568]\n",
            " [-0.71729929 -1.80530827  1.04587476 ...  1.48085622 -1.06603762\n",
            "   0.0517786 ]\n",
            " [-0.14355219  1.58055507 -0.48520108 ...  0.55667401 -1.1720203\n",
            "  -0.17833234]\n",
            " ...\n",
            " [-1.06416574  1.10239394  1.26120919 ...  0.33588752  4.12237216\n",
            "   0.40466054]\n",
            " [ 0.79786213  1.74714935  1.03753069 ...  2.13915393 -2.24842777\n",
            "  -1.14905943]\n",
            " [ 2.24488189 -0.08272796  0.95934063 ... -0.824895   -0.18775621\n",
            "   2.62215735]]\n"
          ]
        },
        {
          "output_type": "stream",
          "name": "stderr",
          "text": [
            "\n"
          ]
        }
      ]
    },
    {
      "cell_type": "markdown",
      "source": [
        "# **Get P and Q matrix**"
      ],
      "metadata": {
        "id": "P_vSuFZtHpZ9"
      }
    },
    {
      "cell_type": "code",
      "source": [
        "\n",
        "Matrix_P = model.get_P()\n",
        "\n",
        "Matrix_Q = model.get_Q()\n",
        "\n"
      ],
      "metadata": {
        "id": "akPCpOVGpt8R"
      },
      "execution_count": 35,
      "outputs": []
    },
    {
      "cell_type": "code",
      "source": [
        "#save matrix P and matrix Q for next parts\n",
        "\n",
        "np.save('P.npy', Matrix_P)\n",
        "np.save('Q.npy', Matrix_Q)"
      ],
      "metadata": {
        "id": "33STuwVyAw0y"
      },
      "execution_count": 36,
      "outputs": []
    },
    {
      "cell_type": "code",
      "source": [
        "print(\"matrix P : \\n\")\n",
        "print(Matrix_P)\n",
        "print(\" \\n\")\n",
        "print(\"matrix Q : \\n\")\n",
        "\n",
        "print(Matrix_Q )"
      ],
      "metadata": {
        "colab": {
          "base_uri": "https://localhost:8080/"
        },
        "id": "mN_rndfxGL3c",
        "outputId": "978498d6-d348-4e40-907e-10ff6d9a1fe6"
      },
      "execution_count": 37,
      "outputs": [
        {
          "output_type": "stream",
          "name": "stdout",
          "text": [
            "matrix P : \n",
            "\n",
            "[[ 3.51783075  0.6064245  -2.02292506 ...  0.20976236  0.69345381\n",
            "  -0.02856046]\n",
            " [ 1.96695074  0.52657848  0.70755064 ...  0.71969507 -0.97452265\n",
            "   1.66378828]\n",
            " [ 2.54970684 -0.72120447 -1.82232335 ...  1.32900908  1.20204859\n",
            "   1.29135903]\n",
            " ...\n",
            " [-1.0720609  -1.23200448 -0.49738717 ...  0.08282212 -0.74619024\n",
            "  -0.22874953]\n",
            " [-0.12054816 -0.64567823  1.37858362 ... -1.20786202 -2.34327876\n",
            "  -0.69787985]\n",
            " [ 1.44470751 -0.13274001  0.01391308 ... -0.31950018 -0.76452019\n",
            "  -0.28451078]]\n",
            " \n",
            "\n",
            "matrix Q : \n",
            "\n",
            "[[-2.38967811  0.19361862 -1.44360406 ...  1.82344941  2.39312369\n",
            "   0.57796568]\n",
            " [-0.71729929 -1.80530827  1.04587476 ...  1.48085622 -1.06603762\n",
            "   0.0517786 ]\n",
            " [-0.14355219  1.58055507 -0.48520108 ...  0.55667401 -1.1720203\n",
            "  -0.17833234]\n",
            " ...\n",
            " [-1.06416574  1.10239394  1.26120919 ...  0.33588752  4.12237216\n",
            "   0.40466054]\n",
            " [ 0.79786213  1.74714935  1.03753069 ...  2.13915393 -2.24842777\n",
            "  -1.14905943]\n",
            " [ 2.24488189 -0.08272796  0.95934063 ... -0.824895   -0.18775621\n",
            "   2.62215735]]\n"
          ]
        }
      ]
    },
    {
      "cell_type": "markdown",
      "source": [
        "# **Rating Prediction**"
      ],
      "metadata": {
        "id": "UStO62-VFI0e"
      }
    },
    {
      "cell_type": "code",
      "execution_count": 38,
      "metadata": {
        "id": "dp7MIZ2Q_6P-"
      },
      "outputs": [],
      "source": [
        "import numpy as np\n",
        "from tqdm import tqdm\n",
        "\n",
        "def predict_rating(P , Q , i, u):\n",
        "\n",
        "        return Q[i, :].dot(P[u, :].T)"
      ]
    },
    {
      "cell_type": "code",
      "source": [
        "import pandas as pd\n",
        "\n",
        "# Load test dataset without header\n",
        "test_data = pd.read_csv('test_dataset.txt', sep='\\t', header=None, skiprows=1)\n",
        "\n",
        "test_data.columns = ['user_id', 'item_id', 'rate', 'review_text']\n",
        "\n",
        "ground_truth = test_data.groupby('user_id')['item_id'].apply(list).reset_index()\n",
        "display(ground_truth)\n",
        "ground_truth.columns = ['user_id', 'interacted_items']\n"
      ],
      "metadata": {
        "id": "nYDuJRk0HicN",
        "colab": {
          "base_uri": "https://localhost:8080/",
          "height": 424
        },
        "outputId": "9a1a2ab3-ada1-45cb-d6f0-c9f9469bbb2b"
      },
      "execution_count": 39,
      "outputs": [
        {
          "output_type": "display_data",
          "data": {
            "text/plain": [
              "             user_id                                            item_id\n",
              "0     A100WO06OQR8BQ  [B009FKNGGQ, B003U4LI7W, B007JT7ARQ, B001ECQ55...\n",
              "1     A100ZQDV7L8PVV                           [B005TI7LHS, B009XRF9M0]\n",
              "2     A105S56ODHGJEK  [B00GTC02LA, B00AWLB9G6, B00AE07CRA, B006L6A06...\n",
              "3     A10E3F50DIUJEE                           [B009YSSLAU, B00GTBZI6A]\n",
              "4     A10M94ASQEBL56                           [B00GTBZWPW, B00AO4E9L8]\n",
              "...              ...                                                ...\n",
              "1335   AYWHCM0TJ4737                           [B00AE07932, B00GTC1JHQ]\n",
              "1336   AZ26CDSJ363AH               [B0073P01RC, B00BB8ZHJY, B00AE0790U]\n",
              "1337   AZA595ZPIG240  [B001ECQ4YO, B00AO4E9MC, B00D6EDGYE, B00AE07FU...\n",
              "1338   AZFHSPEZUPGD2  [B002UUT3YM, B0054MSBZA, B00639DLV2, B009YSSLA...\n",
              "1339   AZMY6E8B52L2T               [B004MBJKRC, B00H93NJLS, B004MTF3KC]\n",
              "\n",
              "[1340 rows x 2 columns]"
            ],
            "text/html": [
              "\n",
              "  <div id=\"df-4099b0fc-c18b-4e93-900c-916bdea333bb\" class=\"colab-df-container\">\n",
              "    <div>\n",
              "<style scoped>\n",
              "    .dataframe tbody tr th:only-of-type {\n",
              "        vertical-align: middle;\n",
              "    }\n",
              "\n",
              "    .dataframe tbody tr th {\n",
              "        vertical-align: top;\n",
              "    }\n",
              "\n",
              "    .dataframe thead th {\n",
              "        text-align: right;\n",
              "    }\n",
              "</style>\n",
              "<table border=\"1\" class=\"dataframe\">\n",
              "  <thead>\n",
              "    <tr style=\"text-align: right;\">\n",
              "      <th></th>\n",
              "      <th>user_id</th>\n",
              "      <th>item_id</th>\n",
              "    </tr>\n",
              "  </thead>\n",
              "  <tbody>\n",
              "    <tr>\n",
              "      <th>0</th>\n",
              "      <td>A100WO06OQR8BQ</td>\n",
              "      <td>[B009FKNGGQ, B003U4LI7W, B007JT7ARQ, B001ECQ55...</td>\n",
              "    </tr>\n",
              "    <tr>\n",
              "      <th>1</th>\n",
              "      <td>A100ZQDV7L8PVV</td>\n",
              "      <td>[B005TI7LHS, B009XRF9M0]</td>\n",
              "    </tr>\n",
              "    <tr>\n",
              "      <th>2</th>\n",
              "      <td>A105S56ODHGJEK</td>\n",
              "      <td>[B00GTC02LA, B00AWLB9G6, B00AE07CRA, B006L6A06...</td>\n",
              "    </tr>\n",
              "    <tr>\n",
              "      <th>3</th>\n",
              "      <td>A10E3F50DIUJEE</td>\n",
              "      <td>[B009YSSLAU, B00GTBZI6A]</td>\n",
              "    </tr>\n",
              "    <tr>\n",
              "      <th>4</th>\n",
              "      <td>A10M94ASQEBL56</td>\n",
              "      <td>[B00GTBZWPW, B00AO4E9L8]</td>\n",
              "    </tr>\n",
              "    <tr>\n",
              "      <th>...</th>\n",
              "      <td>...</td>\n",
              "      <td>...</td>\n",
              "    </tr>\n",
              "    <tr>\n",
              "      <th>1335</th>\n",
              "      <td>AYWHCM0TJ4737</td>\n",
              "      <td>[B00AE07932, B00GTC1JHQ]</td>\n",
              "    </tr>\n",
              "    <tr>\n",
              "      <th>1336</th>\n",
              "      <td>AZ26CDSJ363AH</td>\n",
              "      <td>[B0073P01RC, B00BB8ZHJY, B00AE0790U]</td>\n",
              "    </tr>\n",
              "    <tr>\n",
              "      <th>1337</th>\n",
              "      <td>AZA595ZPIG240</td>\n",
              "      <td>[B001ECQ4YO, B00AO4E9MC, B00D6EDGYE, B00AE07FU...</td>\n",
              "    </tr>\n",
              "    <tr>\n",
              "      <th>1338</th>\n",
              "      <td>AZFHSPEZUPGD2</td>\n",
              "      <td>[B002UUT3YM, B0054MSBZA, B00639DLV2, B009YSSLA...</td>\n",
              "    </tr>\n",
              "    <tr>\n",
              "      <th>1339</th>\n",
              "      <td>AZMY6E8B52L2T</td>\n",
              "      <td>[B004MBJKRC, B00H93NJLS, B004MTF3KC]</td>\n",
              "    </tr>\n",
              "  </tbody>\n",
              "</table>\n",
              "<p>1340 rows × 2 columns</p>\n",
              "</div>\n",
              "    <div class=\"colab-df-buttons\">\n",
              "\n",
              "  <div class=\"colab-df-container\">\n",
              "    <button class=\"colab-df-convert\" onclick=\"convertToInteractive('df-4099b0fc-c18b-4e93-900c-916bdea333bb')\"\n",
              "            title=\"Convert this dataframe to an interactive table.\"\n",
              "            style=\"display:none;\">\n",
              "\n",
              "  <svg xmlns=\"http://www.w3.org/2000/svg\" height=\"24px\" viewBox=\"0 -960 960 960\">\n",
              "    <path d=\"M120-120v-720h720v720H120Zm60-500h600v-160H180v160Zm220 220h160v-160H400v160Zm0 220h160v-160H400v160ZM180-400h160v-160H180v160Zm440 0h160v-160H620v160ZM180-180h160v-160H180v160Zm440 0h160v-160H620v160Z\"/>\n",
              "  </svg>\n",
              "    </button>\n",
              "\n",
              "  <style>\n",
              "    .colab-df-container {\n",
              "      display:flex;\n",
              "      gap: 12px;\n",
              "    }\n",
              "\n",
              "    .colab-df-convert {\n",
              "      background-color: #E8F0FE;\n",
              "      border: none;\n",
              "      border-radius: 50%;\n",
              "      cursor: pointer;\n",
              "      display: none;\n",
              "      fill: #1967D2;\n",
              "      height: 32px;\n",
              "      padding: 0 0 0 0;\n",
              "      width: 32px;\n",
              "    }\n",
              "\n",
              "    .colab-df-convert:hover {\n",
              "      background-color: #E2EBFA;\n",
              "      box-shadow: 0px 1px 2px rgba(60, 64, 67, 0.3), 0px 1px 3px 1px rgba(60, 64, 67, 0.15);\n",
              "      fill: #174EA6;\n",
              "    }\n",
              "\n",
              "    .colab-df-buttons div {\n",
              "      margin-bottom: 4px;\n",
              "    }\n",
              "\n",
              "    [theme=dark] .colab-df-convert {\n",
              "      background-color: #3B4455;\n",
              "      fill: #D2E3FC;\n",
              "    }\n",
              "\n",
              "    [theme=dark] .colab-df-convert:hover {\n",
              "      background-color: #434B5C;\n",
              "      box-shadow: 0px 1px 3px 1px rgba(0, 0, 0, 0.15);\n",
              "      filter: drop-shadow(0px 1px 2px rgba(0, 0, 0, 0.3));\n",
              "      fill: #FFFFFF;\n",
              "    }\n",
              "  </style>\n",
              "\n",
              "    <script>\n",
              "      const buttonEl =\n",
              "        document.querySelector('#df-4099b0fc-c18b-4e93-900c-916bdea333bb button.colab-df-convert');\n",
              "      buttonEl.style.display =\n",
              "        google.colab.kernel.accessAllowed ? 'block' : 'none';\n",
              "\n",
              "      async function convertToInteractive(key) {\n",
              "        const element = document.querySelector('#df-4099b0fc-c18b-4e93-900c-916bdea333bb');\n",
              "        const dataTable =\n",
              "          await google.colab.kernel.invokeFunction('convertToInteractive',\n",
              "                                                    [key], {});\n",
              "        if (!dataTable) return;\n",
              "\n",
              "        const docLinkHtml = 'Like what you see? Visit the ' +\n",
              "          '<a target=\"_blank\" href=https://colab.research.google.com/notebooks/data_table.ipynb>data table notebook</a>'\n",
              "          + ' to learn more about interactive tables.';\n",
              "        element.innerHTML = '';\n",
              "        dataTable['output_type'] = 'display_data';\n",
              "        await google.colab.output.renderOutput(dataTable, element);\n",
              "        const docLink = document.createElement('div');\n",
              "        docLink.innerHTML = docLinkHtml;\n",
              "        element.appendChild(docLink);\n",
              "      }\n",
              "    </script>\n",
              "  </div>\n",
              "\n",
              "\n",
              "<div id=\"df-689d97f9-9471-43ee-81c8-5e19df57002d\">\n",
              "  <button class=\"colab-df-quickchart\" onclick=\"quickchart('df-689d97f9-9471-43ee-81c8-5e19df57002d')\"\n",
              "            title=\"Suggest charts\"\n",
              "            style=\"display:none;\">\n",
              "\n",
              "<svg xmlns=\"http://www.w3.org/2000/svg\" height=\"24px\"viewBox=\"0 0 24 24\"\n",
              "     width=\"24px\">\n",
              "    <g>\n",
              "        <path d=\"M19 3H5c-1.1 0-2 .9-2 2v14c0 1.1.9 2 2 2h14c1.1 0 2-.9 2-2V5c0-1.1-.9-2-2-2zM9 17H7v-7h2v7zm4 0h-2V7h2v10zm4 0h-2v-4h2v4z\"/>\n",
              "    </g>\n",
              "</svg>\n",
              "  </button>\n",
              "\n",
              "<style>\n",
              "  .colab-df-quickchart {\n",
              "      --bg-color: #E8F0FE;\n",
              "      --fill-color: #1967D2;\n",
              "      --hover-bg-color: #E2EBFA;\n",
              "      --hover-fill-color: #174EA6;\n",
              "      --disabled-fill-color: #AAA;\n",
              "      --disabled-bg-color: #DDD;\n",
              "  }\n",
              "\n",
              "  [theme=dark] .colab-df-quickchart {\n",
              "      --bg-color: #3B4455;\n",
              "      --fill-color: #D2E3FC;\n",
              "      --hover-bg-color: #434B5C;\n",
              "      --hover-fill-color: #FFFFFF;\n",
              "      --disabled-bg-color: #3B4455;\n",
              "      --disabled-fill-color: #666;\n",
              "  }\n",
              "\n",
              "  .colab-df-quickchart {\n",
              "    background-color: var(--bg-color);\n",
              "    border: none;\n",
              "    border-radius: 50%;\n",
              "    cursor: pointer;\n",
              "    display: none;\n",
              "    fill: var(--fill-color);\n",
              "    height: 32px;\n",
              "    padding: 0;\n",
              "    width: 32px;\n",
              "  }\n",
              "\n",
              "  .colab-df-quickchart:hover {\n",
              "    background-color: var(--hover-bg-color);\n",
              "    box-shadow: 0 1px 2px rgba(60, 64, 67, 0.3), 0 1px 3px 1px rgba(60, 64, 67, 0.15);\n",
              "    fill: var(--button-hover-fill-color);\n",
              "  }\n",
              "\n",
              "  .colab-df-quickchart-complete:disabled,\n",
              "  .colab-df-quickchart-complete:disabled:hover {\n",
              "    background-color: var(--disabled-bg-color);\n",
              "    fill: var(--disabled-fill-color);\n",
              "    box-shadow: none;\n",
              "  }\n",
              "\n",
              "  .colab-df-spinner {\n",
              "    border: 2px solid var(--fill-color);\n",
              "    border-color: transparent;\n",
              "    border-bottom-color: var(--fill-color);\n",
              "    animation:\n",
              "      spin 1s steps(1) infinite;\n",
              "  }\n",
              "\n",
              "  @keyframes spin {\n",
              "    0% {\n",
              "      border-color: transparent;\n",
              "      border-bottom-color: var(--fill-color);\n",
              "      border-left-color: var(--fill-color);\n",
              "    }\n",
              "    20% {\n",
              "      border-color: transparent;\n",
              "      border-left-color: var(--fill-color);\n",
              "      border-top-color: var(--fill-color);\n",
              "    }\n",
              "    30% {\n",
              "      border-color: transparent;\n",
              "      border-left-color: var(--fill-color);\n",
              "      border-top-color: var(--fill-color);\n",
              "      border-right-color: var(--fill-color);\n",
              "    }\n",
              "    40% {\n",
              "      border-color: transparent;\n",
              "      border-right-color: var(--fill-color);\n",
              "      border-top-color: var(--fill-color);\n",
              "    }\n",
              "    60% {\n",
              "      border-color: transparent;\n",
              "      border-right-color: var(--fill-color);\n",
              "    }\n",
              "    80% {\n",
              "      border-color: transparent;\n",
              "      border-right-color: var(--fill-color);\n",
              "      border-bottom-color: var(--fill-color);\n",
              "    }\n",
              "    90% {\n",
              "      border-color: transparent;\n",
              "      border-bottom-color: var(--fill-color);\n",
              "    }\n",
              "  }\n",
              "</style>\n",
              "\n",
              "  <script>\n",
              "    async function quickchart(key) {\n",
              "      const quickchartButtonEl =\n",
              "        document.querySelector('#' + key + ' button');\n",
              "      quickchartButtonEl.disabled = true;  // To prevent multiple clicks.\n",
              "      quickchartButtonEl.classList.add('colab-df-spinner');\n",
              "      try {\n",
              "        const charts = await google.colab.kernel.invokeFunction(\n",
              "            'suggestCharts', [key], {});\n",
              "      } catch (error) {\n",
              "        console.error('Error during call to suggestCharts:', error);\n",
              "      }\n",
              "      quickchartButtonEl.classList.remove('colab-df-spinner');\n",
              "      quickchartButtonEl.classList.add('colab-df-quickchart-complete');\n",
              "    }\n",
              "    (() => {\n",
              "      let quickchartButtonEl =\n",
              "        document.querySelector('#df-689d97f9-9471-43ee-81c8-5e19df57002d button');\n",
              "      quickchartButtonEl.style.display =\n",
              "        google.colab.kernel.accessAllowed ? 'block' : 'none';\n",
              "    })();\n",
              "  </script>\n",
              "</div>\n",
              "    </div>\n",
              "  </div>\n"
            ]
          },
          "metadata": {}
        }
      ]
    },
    {
      "cell_type": "code",
      "source": [
        "all_items = set(unique_items) | set(test_data['item_id'])\n",
        "\n",
        "train_interacted_items = {user: set(item[1] for item in record if item[0] == user_mapping[user]) for user in unique_users}\n",
        "\n",
        "predicted_ratings = {}\n",
        "for user in set(test_data['user_id']):\n",
        "    user_idx = user_mapping[user]\n",
        "    predicted_ratings[user] = {item: predict_rating(Matrix_P , Matrix_Q , item_mapping[item], user_idx) for item in all_items if item not in train_interacted_items[user]}\n",
        "\n"
      ],
      "metadata": {
        "id": "ubix1gqHUzW5"
      },
      "execution_count": 40,
      "outputs": []
    },
    {
      "cell_type": "markdown",
      "metadata": {
        "id": "p6-Ft4thuTgF"
      },
      "source": [
        "# **Evaluation**"
      ]
    },
    {
      "cell_type": "code",
      "execution_count": 41,
      "metadata": {
        "id": "ihvOfcGTwKZB"
      },
      "outputs": [],
      "source": [
        "from sklearn.metrics import recall_score\n",
        "\n",
        "def calculate_recall(predicted_ratings, ground_truth, topk=20):\n",
        "    recall_scores = []\n",
        "    for user, ratings in predicted_ratings.items():\n",
        "        # Get the top 20 items predicted for the user\n",
        "        top_20_predicted_items = sorted(ratings.items(), key=lambda x: x[1], reverse=True)[:topk]\n",
        "\n",
        "        # Get the actual items interacted by the user\n",
        "        actual_items = ground_truth[ground_truth['user_id'] == user]['interacted_items'].values[0]\n",
        "\n",
        "        actual_items_binary = [1 for item in actual_items]\n",
        "\n",
        "        # Convert the items to binary format (1 if the item is in the top 20 predicted items, 0 otherwise)\n",
        "        predicted_ratings_binary = [1 if item in dict(top_20_predicted_items) else 0 for item in actual_items]\n",
        "\n",
        "        # Calculate the recall for the user\n",
        "        recall_score_user = recall_score([actual_items_binary], [predicted_ratings_binary], average = 'weighted')\n",
        "        recall_scores.append(recall_score_user)\n",
        "\n",
        "\n",
        "    return np.mean(recall_scores)"
      ]
    },
    {
      "cell_type": "code",
      "execution_count": 42,
      "metadata": {
        "id": "S6HvHdx0wKZB"
      },
      "outputs": [],
      "source": [
        "from sklearn.metrics import ndcg_score\n",
        "\n",
        "def calculate_ndcg(predicted_ratings , ground_truth, topk=20):\n",
        "\n",
        "    ndcg_scores = []\n",
        "    for user, ratings in predicted_ratings.items():\n",
        "\n",
        "        # Get the top 20 items predicted for the user\n",
        "        top_20_predicted_items = sorted(ratings.items(), key=lambda x: x[1], reverse=True)[:topk]\n",
        "\n",
        "        # Get the actual items interacted by the user\n",
        "        actual_items = list(ground_truth[ground_truth['user_id'] == user]['interacted_items'].values[0])\n",
        "\n",
        "        actual_items_binary = [1 for item in actual_items]\n",
        "\n",
        "\n",
        "        predicted_ratings_binary = [dict(top_20_predicted_items).get(item, 0) if item in dict(top_20_predicted_items) else 0 for item in actual_items]\n",
        "\n",
        "\n",
        "        actual_items_binary = np.asarray([actual_items_binary])\n",
        "        predicted_ratings_binary = np.asarray([predicted_ratings_binary])\n",
        "\n",
        "        # Calculate the NDCG for the user\n",
        "        ndcg_score_user = ndcg_score(actual_items_binary, predicted_ratings_binary)\n",
        "        ndcg_scores.append(ndcg_score_user)\n",
        "\n",
        "\n",
        "    return np.mean(ndcg_scores)"
      ]
    },
    {
      "cell_type": "code",
      "execution_count": 43,
      "metadata": {
        "id": "qEzwDnwRwKZC"
      },
      "outputs": [],
      "source": [
        "from scipy import stats\n",
        "def calculate_rankcorrelation(predicted_ratings, ground_truth):\n",
        "\n",
        "    spearman_scores = []\n",
        "    for user, ratings in predicted_ratings.items():\n",
        "\n",
        "        predicted_items = sorted(ratings.items(), key=lambda x: x[1], reverse=True)\n",
        "\n",
        "\n",
        "        # Get the actual items interacted by the user\n",
        "        actual_items = list(ground_truth[ground_truth['user_id'] == user]['interacted_items'].values[0])\n",
        "\n",
        "        actual_items_ranking = list(range(1, len(actual_items) + 1)) # Assign ranks to actual items\n",
        "\n",
        "\n",
        "\n",
        "      # Assign ranks to actual items based on their scores in the predicted list\n",
        "\n",
        "        actual_items_ranking_in_predicted_list = [next((index + 1 for index, item in enumerate(predicted_items) if item[0] == target), None)  for target in actual_items]\n",
        "\n",
        "        # Calculate the sperman correlation for the user\n",
        "        spearman_score_user ,_ = stats.spearmanr(actual_items_ranking, actual_items_ranking_in_predicted_list )\n",
        "        spearman_scores.append(spearman_score_user)\n",
        "\n",
        "    return np.mean(spearman_scores)"
      ]
    },
    {
      "cell_type": "code",
      "execution_count": 44,
      "metadata": {
        "colab": {
          "base_uri": "https://localhost:8080/"
        },
        "id": "i58KcvhowKZC",
        "outputId": "3db4e56b-c946-4435-d482-5f9c76431b6c"
      },
      "outputs": [
        {
          "output_type": "stream",
          "name": "stdout",
          "text": [
            "recall score is :  0.03160290440506209\n",
            "rank correlation(spearman) is :  0.02659669280648883\n",
            "ndcg score is :  1.0\n"
          ]
        }
      ],
      "source": [
        "print(\"recall score is : \" , calculate_recall(predicted_ratings, ground_truth))\n",
        "\n",
        "print(\"rank correlation(spearman) is : \" , calculate_rankcorrelation(predicted_ratings , ground_truth) )\n",
        "\n",
        "print(\"ndcg score is : \" , calculate_ndcg(predicted_ratings, ground_truth))\n"
      ]
    }
  ],
  "metadata": {
    "colab": {
      "provenance": []
    },
    "kernelspec": {
      "display_name": "Python 3",
      "name": "python3"
    },
    "language_info": {
      "name": "python"
    }
  },
  "nbformat": 4,
  "nbformat_minor": 0
}