{
  "nbformat": 4,
  "nbformat_minor": 0,
  "metadata": {
    "colab": {
      "provenance": [],
      "toc_visible": true
    },
    "kernelspec": {
      "name": "python3",
      "display_name": "Python 3"
    },
    "language_info": {
      "name": "python"
    }
  },
  "cells": [
    {
      "cell_type": "code",
      "source": [
        "import gdown\n",
        "\n",
        "url = 'https://drive.google.com/uc?id=1moaGNpmZjjN0XH0dcTOybEz8NVS00x-6'\n",
        "output = 'train_dataset.txt'\n",
        "gdown.download(url, output, quiet=False)\n",
        "\n",
        "url = 'https://drive.google.com/uc?id=19ajg9r-QMvDBuVDxBne4Y-vIzSqauAHS'\n",
        "output = 'test_dataset.txt'\n",
        "gdown.download(url, output, quiet=False)"
      ],
      "metadata": {
        "colab": {
          "base_uri": "https://localhost:8080/",
          "height": 174
        },
        "id": "teYE5-I2J09V",
        "outputId": "91526506-e850-4d49-f581-b02aa835226b"
      },
      "execution_count": 4,
      "outputs": [
        {
          "output_type": "stream",
          "name": "stderr",
          "text": [
            "Downloading...\n",
            "From: https://drive.google.com/uc?id=1moaGNpmZjjN0XH0dcTOybEz8NVS00x-6\n",
            "To: /content/train_dataset.txt\n",
            "100%|██████████| 17.0M/17.0M [00:00<00:00, 103MB/s] \n",
            "Downloading...\n",
            "From: https://drive.google.com/uc?id=19ajg9r-QMvDBuVDxBne4Y-vIzSqauAHS\n",
            "To: /content/test_dataset.txt\n",
            "100%|██████████| 4.25M/4.25M [00:00<00:00, 77.3MB/s]\n"
          ]
        },
        {
          "output_type": "execute_result",
          "data": {
            "text/plain": [
              "'test_dataset.txt'"
            ],
            "application/vnd.google.colaboratory.intrinsic+json": {
              "type": "string"
            }
          },
          "metadata": {},
          "execution_count": 4
        }
      ]
    },
    {
      "cell_type": "code",
      "source": [
        "import csv\n",
        "from scipy.sparse import csr_matrix\n",
        "\n",
        "num_records = 0\n",
        "record = []\n",
        "with open('train_dataset.txt', 'r', encoding='utf-8') as file:\n",
        "    reader = csv.reader(file, delimiter='\\t', quoting=csv.QUOTE_ALL, quotechar='\"')\n",
        "    next(reader) # Skip the first line\n",
        "    for row in reader:\n",
        "        if len(row) == 4:\n",
        "            record.append(row)"
      ],
      "metadata": {
        "id": "vKZLXt4MNv4O"
      },
      "execution_count": 5,
      "outputs": []
    },
    {
      "cell_type": "code",
      "source": [
        "unique_users = list(set([row[0] for row in record]))\n",
        "unique_items = list(set([row[1] for row in record]))\n",
        "\n",
        "# Create mappings from user_id and item_id to row and column indices\n",
        "user_mapping = {user: index for index, user in enumerate(unique_users)}\n",
        "item_mapping = {item: index for index, item in enumerate(unique_items)}\n",
        "\n",
        "# Map user_id and item_id to row and column indices\n",
        "record = [[user_mapping[row[0]], item_mapping[row[1]], row[2], row[3]] for row in record]\n",
        "\n",
        "# Separate the ratings and review texts\n",
        "ratings = [float(row[2]) for row in record]\n",
        "\n",
        "# Create a R matrix for the ratings\n",
        "r = csr_matrix((ratings, ([record[i][0] for i in range(len(record))], [record[i][1] for i in range(len(record))])))\n",
        "R_matrix = r.toarray()\n",
        "print(f'Number of records: {num_records}')\n",
        "print(f'R matrix: \\n{R_matrix}')"
      ],
      "metadata": {
        "colab": {
          "base_uri": "https://localhost:8080/"
        },
        "id": "6SLV1uUPNTrs",
        "outputId": "c23d2064-4df8-4407-d418-8bbe57bd4c9b"
      },
      "execution_count": 6,
      "outputs": [
        {
          "output_type": "stream",
          "name": "stdout",
          "text": [
            "Number of records: 23038\n",
            "R matrix: \n",
            "[[0. 0. 0. ... 0. 0. 0.]\n",
            " [0. 0. 1. ... 0. 0. 0.]\n",
            " [0. 0. 0. ... 0. 0. 0.]\n",
            " ...\n",
            " [0. 0. 0. ... 0. 0. 0.]\n",
            " [0. 0. 0. ... 0. 0. 0.]\n",
            " [0. 0. 0. ... 0. 0. 0.]]\n"
          ]
        }
      ]
    },
    {
      "cell_type": "markdown",
      "source": [
        "# **Load Item Embeddings**"
      ],
      "metadata": {
        "id": "GYciai6UC4OU"
      }
    },
    {
      "cell_type": "code",
      "execution_count": 7,
      "metadata": {
        "id": "8a2u8j-x8x1G"
      },
      "outputs": [],
      "source": [
        "import torch\n",
        "item_embeddings = torch.load('item_embeddings.pt', map_location=torch.device('cpu'))"
      ]
    },
    {
      "cell_type": "code",
      "source": [
        "display(item_embeddings)"
      ],
      "metadata": {
        "id": "wqdRPxBck9Tm"
      },
      "execution_count": null,
      "outputs": []
    },
    {
      "cell_type": "code",
      "source": [
        "from sklearn.decomposition import PCA\n",
        "import numpy as np\n",
        "\n",
        "item_embeddings_np = {}\n",
        "for item_id, embedding in item_embeddings.items():\n",
        "\n",
        "    # Flatten the tensor and convert it to a numpy array\n",
        "    item_embeddings_np[item_id] = embedding.view(-1).cpu().detach().numpy()\n",
        "\n",
        "\n",
        "\n",
        "embeddings_np = np.array(list(item_embeddings_np.values()))\n",
        "\n"
      ],
      "metadata": {
        "id": "ZwVH8fZxTYkC"
      },
      "execution_count": 9,
      "outputs": []
    },
    {
      "cell_type": "code",
      "source": [
        "print(embeddings_np.shape)"
      ],
      "metadata": {
        "id": "vn4qvNgptbC2",
        "colab": {
          "base_uri": "https://localhost:8080/"
        },
        "outputId": "e9440774-bfb6-4739-c7be-d5cb356bd13a"
      },
      "execution_count": 10,
      "outputs": [
        {
          "output_type": "stream",
          "name": "stdout",
          "text": [
            "(733, 768)\n"
          ]
        }
      ]
    },
    {
      "cell_type": "code",
      "source": [
        "print(embeddings_np)"
      ],
      "metadata": {
        "id": "MZpdEvjCoxC_",
        "colab": {
          "base_uri": "https://localhost:8080/"
        },
        "outputId": "0aef2518-c6fc-4dcb-9335-b5c9598394e8"
      },
      "execution_count": 11,
      "outputs": [
        {
          "output_type": "stream",
          "name": "stdout",
          "text": [
            "[[ 0.04237541 -0.08171102  0.32029814 ...  0.03018228 -0.04695213\n",
            "   0.06047632]\n",
            " [ 0.05445423 -0.10293787  0.32472286 ... -0.09971305 -0.05402731\n",
            "   0.09488987]\n",
            " [-0.06542997 -0.147529    0.36194992 ...  0.01217275 -0.0115719\n",
            "   0.09496435]\n",
            " ...\n",
            " [ 0.05231054 -0.11189589  0.3390529  ... -0.09437604 -0.06007697\n",
            "   0.06164911]\n",
            " [ 0.0610081  -0.11780063  0.36431956 ... -0.05020854 -0.08578517\n",
            "   0.0810637 ]\n",
            " [ 0.00204834 -0.14168464  0.34443936 ... -0.073659    0.00549071\n",
            "  -0.00100103]]\n"
          ]
        }
      ]
    },
    {
      "cell_type": "markdown",
      "source": [
        "# **B)Concat Q Matrix to reduced matrix (with pca)**"
      ],
      "metadata": {
        "id": "o7AhGb76fYm0"
      }
    },
    {
      "cell_type": "code",
      "source": [
        "import numpy as np\n",
        "\n",
        "\n",
        "Matrix_P = np.load('P.npy')\n",
        "Matrix_Q = np.load('Q.npy')"
      ],
      "metadata": {
        "id": "2OXYaDFbfoTU"
      },
      "execution_count": 12,
      "outputs": []
    },
    {
      "cell_type": "code",
      "source": [
        "print(Matrix_Q.shape)"
      ],
      "metadata": {
        "id": "pBoTK_BBhyrs",
        "colab": {
          "base_uri": "https://localhost:8080/"
        },
        "outputId": "0a5360d6-31c7-4e1c-b254-c7720f6df0f2"
      },
      "execution_count": 13,
      "outputs": [
        {
          "output_type": "stream",
          "name": "stdout",
          "text": [
            "(733, 64)\n"
          ]
        }
      ]
    },
    {
      "cell_type": "code",
      "source": [
        "concat_matrix = np.concatenate((embeddings_np, Matrix_Q), axis=1)\n",
        "print(concat_matrix.shape)"
      ],
      "metadata": {
        "id": "AK0znF0-feas",
        "colab": {
          "base_uri": "https://localhost:8080/"
        },
        "outputId": "571898fe-dc13-49a1-8946-0a7522343981"
      },
      "execution_count": 26,
      "outputs": [
        {
          "output_type": "stream",
          "name": "stdout",
          "text": [
            "(733, 832)\n"
          ]
        }
      ]
    },
    {
      "cell_type": "markdown",
      "source": [
        "## **PCA**"
      ],
      "metadata": {
        "id": "3VkZ-BAzx6NF"
      }
    },
    {
      "cell_type": "code",
      "source": [
        "# do pca\n",
        "pca = PCA(n_components=64)\n",
        "\n",
        "reducded_embedding= pca.fit_transform(concat_matrix)\n"
      ],
      "metadata": {
        "id": "OI5-MKPVlaYb"
      },
      "execution_count": 27,
      "outputs": []
    },
    {
      "cell_type": "code",
      "source": [
        "print(reducded_embedding.shape)"
      ],
      "metadata": {
        "id": "FMPJ4yW7glZb",
        "colab": {
          "base_uri": "https://localhost:8080/"
        },
        "outputId": "bd3a746a-1027-45de-e526-f737288e4080"
      },
      "execution_count": 16,
      "outputs": [
        {
          "output_type": "stream",
          "name": "stdout",
          "text": [
            "(733, 64)\n"
          ]
        }
      ]
    },
    {
      "cell_type": "code",
      "source": [
        "Matrix_Q = reducded_embedding"
      ],
      "metadata": {
        "id": "V7S96xA8ljkG"
      },
      "execution_count": 17,
      "outputs": []
    },
    {
      "cell_type": "markdown",
      "source": [
        "# **Rating Prediction**"
      ],
      "metadata": {
        "id": "UStO62-VFI0e"
      }
    },
    {
      "cell_type": "code",
      "execution_count": 19,
      "metadata": {
        "id": "pPF6m6CW3yWM"
      },
      "outputs": [],
      "source": [
        "import numpy as np\n",
        "from tqdm import tqdm\n",
        "\n",
        "def predict_rating(P , Q , i, u):\n",
        "\n",
        "        return Q[i, :].dot(P[u, :].T)"
      ]
    },
    {
      "cell_type": "code",
      "source": [
        "import pandas as pd\n",
        "\n",
        "# Load test dataset without header\n",
        "test_data = pd.read_csv('test_dataset.txt', sep='\\t', header=None, skiprows=1)\n",
        "\n",
        "test_data.columns = ['user_id', 'item_id', 'rate', 'review_text']\n",
        "\n",
        "ground_truth = test_data.groupby('user_id')['item_id'].apply(list).reset_index()\n",
        "display(ground_truth)\n",
        "ground_truth.columns = ['user_id', 'interacted_items']\n"
      ],
      "metadata": {
        "id": "nYDuJRk0HicN",
        "colab": {
          "base_uri": "https://localhost:8080/",
          "height": 424
        },
        "outputId": "f55c5205-210d-4fae-98b1-fbc5e91ae4d4"
      },
      "execution_count": 20,
      "outputs": [
        {
          "output_type": "display_data",
          "data": {
            "text/plain": [
              "             user_id                                            item_id\n",
              "0     A100WO06OQR8BQ  [B009FKNGGQ, B003U4LI7W, B007JT7ARQ, B001ECQ55...\n",
              "1     A100ZQDV7L8PVV                           [B005TI7LHS, B009XRF9M0]\n",
              "2     A105S56ODHGJEK  [B00GTC02LA, B00AWLB9G6, B00AE07CRA, B006L6A06...\n",
              "3     A10E3F50DIUJEE                           [B009YSSLAU, B00GTBZI6A]\n",
              "4     A10M94ASQEBL56                           [B00GTBZWPW, B00AO4E9L8]\n",
              "...              ...                                                ...\n",
              "1335   AYWHCM0TJ4737                           [B00AE07932, B00GTC1JHQ]\n",
              "1336   AZ26CDSJ363AH               [B0073P01RC, B00BB8ZHJY, B00AE0790U]\n",
              "1337   AZA595ZPIG240  [B001ECQ4YO, B00AO4E9MC, B00D6EDGYE, B00AE07FU...\n",
              "1338   AZFHSPEZUPGD2  [B002UUT3YM, B0054MSBZA, B00639DLV2, B009YSSLA...\n",
              "1339   AZMY6E8B52L2T               [B004MBJKRC, B00H93NJLS, B004MTF3KC]\n",
              "\n",
              "[1340 rows x 2 columns]"
            ],
            "text/html": [
              "\n",
              "  <div id=\"df-99cf1013-48a1-4608-9b32-ea6d57b7239d\" class=\"colab-df-container\">\n",
              "    <div>\n",
              "<style scoped>\n",
              "    .dataframe tbody tr th:only-of-type {\n",
              "        vertical-align: middle;\n",
              "    }\n",
              "\n",
              "    .dataframe tbody tr th {\n",
              "        vertical-align: top;\n",
              "    }\n",
              "\n",
              "    .dataframe thead th {\n",
              "        text-align: right;\n",
              "    }\n",
              "</style>\n",
              "<table border=\"1\" class=\"dataframe\">\n",
              "  <thead>\n",
              "    <tr style=\"text-align: right;\">\n",
              "      <th></th>\n",
              "      <th>user_id</th>\n",
              "      <th>item_id</th>\n",
              "    </tr>\n",
              "  </thead>\n",
              "  <tbody>\n",
              "    <tr>\n",
              "      <th>0</th>\n",
              "      <td>A100WO06OQR8BQ</td>\n",
              "      <td>[B009FKNGGQ, B003U4LI7W, B007JT7ARQ, B001ECQ55...</td>\n",
              "    </tr>\n",
              "    <tr>\n",
              "      <th>1</th>\n",
              "      <td>A100ZQDV7L8PVV</td>\n",
              "      <td>[B005TI7LHS, B009XRF9M0]</td>\n",
              "    </tr>\n",
              "    <tr>\n",
              "      <th>2</th>\n",
              "      <td>A105S56ODHGJEK</td>\n",
              "      <td>[B00GTC02LA, B00AWLB9G6, B00AE07CRA, B006L6A06...</td>\n",
              "    </tr>\n",
              "    <tr>\n",
              "      <th>3</th>\n",
              "      <td>A10E3F50DIUJEE</td>\n",
              "      <td>[B009YSSLAU, B00GTBZI6A]</td>\n",
              "    </tr>\n",
              "    <tr>\n",
              "      <th>4</th>\n",
              "      <td>A10M94ASQEBL56</td>\n",
              "      <td>[B00GTBZWPW, B00AO4E9L8]</td>\n",
              "    </tr>\n",
              "    <tr>\n",
              "      <th>...</th>\n",
              "      <td>...</td>\n",
              "      <td>...</td>\n",
              "    </tr>\n",
              "    <tr>\n",
              "      <th>1335</th>\n",
              "      <td>AYWHCM0TJ4737</td>\n",
              "      <td>[B00AE07932, B00GTC1JHQ]</td>\n",
              "    </tr>\n",
              "    <tr>\n",
              "      <th>1336</th>\n",
              "      <td>AZ26CDSJ363AH</td>\n",
              "      <td>[B0073P01RC, B00BB8ZHJY, B00AE0790U]</td>\n",
              "    </tr>\n",
              "    <tr>\n",
              "      <th>1337</th>\n",
              "      <td>AZA595ZPIG240</td>\n",
              "      <td>[B001ECQ4YO, B00AO4E9MC, B00D6EDGYE, B00AE07FU...</td>\n",
              "    </tr>\n",
              "    <tr>\n",
              "      <th>1338</th>\n",
              "      <td>AZFHSPEZUPGD2</td>\n",
              "      <td>[B002UUT3YM, B0054MSBZA, B00639DLV2, B009YSSLA...</td>\n",
              "    </tr>\n",
              "    <tr>\n",
              "      <th>1339</th>\n",
              "      <td>AZMY6E8B52L2T</td>\n",
              "      <td>[B004MBJKRC, B00H93NJLS, B004MTF3KC]</td>\n",
              "    </tr>\n",
              "  </tbody>\n",
              "</table>\n",
              "<p>1340 rows × 2 columns</p>\n",
              "</div>\n",
              "    <div class=\"colab-df-buttons\">\n",
              "\n",
              "  <div class=\"colab-df-container\">\n",
              "    <button class=\"colab-df-convert\" onclick=\"convertToInteractive('df-99cf1013-48a1-4608-9b32-ea6d57b7239d')\"\n",
              "            title=\"Convert this dataframe to an interactive table.\"\n",
              "            style=\"display:none;\">\n",
              "\n",
              "  <svg xmlns=\"http://www.w3.org/2000/svg\" height=\"24px\" viewBox=\"0 -960 960 960\">\n",
              "    <path d=\"M120-120v-720h720v720H120Zm60-500h600v-160H180v160Zm220 220h160v-160H400v160Zm0 220h160v-160H400v160ZM180-400h160v-160H180v160Zm440 0h160v-160H620v160ZM180-180h160v-160H180v160Zm440 0h160v-160H620v160Z\"/>\n",
              "  </svg>\n",
              "    </button>\n",
              "\n",
              "  <style>\n",
              "    .colab-df-container {\n",
              "      display:flex;\n",
              "      gap: 12px;\n",
              "    }\n",
              "\n",
              "    .colab-df-convert {\n",
              "      background-color: #E8F0FE;\n",
              "      border: none;\n",
              "      border-radius: 50%;\n",
              "      cursor: pointer;\n",
              "      display: none;\n",
              "      fill: #1967D2;\n",
              "      height: 32px;\n",
              "      padding: 0 0 0 0;\n",
              "      width: 32px;\n",
              "    }\n",
              "\n",
              "    .colab-df-convert:hover {\n",
              "      background-color: #E2EBFA;\n",
              "      box-shadow: 0px 1px 2px rgba(60, 64, 67, 0.3), 0px 1px 3px 1px rgba(60, 64, 67, 0.15);\n",
              "      fill: #174EA6;\n",
              "    }\n",
              "\n",
              "    .colab-df-buttons div {\n",
              "      margin-bottom: 4px;\n",
              "    }\n",
              "\n",
              "    [theme=dark] .colab-df-convert {\n",
              "      background-color: #3B4455;\n",
              "      fill: #D2E3FC;\n",
              "    }\n",
              "\n",
              "    [theme=dark] .colab-df-convert:hover {\n",
              "      background-color: #434B5C;\n",
              "      box-shadow: 0px 1px 3px 1px rgba(0, 0, 0, 0.15);\n",
              "      filter: drop-shadow(0px 1px 2px rgba(0, 0, 0, 0.3));\n",
              "      fill: #FFFFFF;\n",
              "    }\n",
              "  </style>\n",
              "\n",
              "    <script>\n",
              "      const buttonEl =\n",
              "        document.querySelector('#df-99cf1013-48a1-4608-9b32-ea6d57b7239d button.colab-df-convert');\n",
              "      buttonEl.style.display =\n",
              "        google.colab.kernel.accessAllowed ? 'block' : 'none';\n",
              "\n",
              "      async function convertToInteractive(key) {\n",
              "        const element = document.querySelector('#df-99cf1013-48a1-4608-9b32-ea6d57b7239d');\n",
              "        const dataTable =\n",
              "          await google.colab.kernel.invokeFunction('convertToInteractive',\n",
              "                                                    [key], {});\n",
              "        if (!dataTable) return;\n",
              "\n",
              "        const docLinkHtml = 'Like what you see? Visit the ' +\n",
              "          '<a target=\"_blank\" href=https://colab.research.google.com/notebooks/data_table.ipynb>data table notebook</a>'\n",
              "          + ' to learn more about interactive tables.';\n",
              "        element.innerHTML = '';\n",
              "        dataTable['output_type'] = 'display_data';\n",
              "        await google.colab.output.renderOutput(dataTable, element);\n",
              "        const docLink = document.createElement('div');\n",
              "        docLink.innerHTML = docLinkHtml;\n",
              "        element.appendChild(docLink);\n",
              "      }\n",
              "    </script>\n",
              "  </div>\n",
              "\n",
              "\n",
              "<div id=\"df-959532fa-b858-4b4f-aaf7-decea545b6bc\">\n",
              "  <button class=\"colab-df-quickchart\" onclick=\"quickchart('df-959532fa-b858-4b4f-aaf7-decea545b6bc')\"\n",
              "            title=\"Suggest charts\"\n",
              "            style=\"display:none;\">\n",
              "\n",
              "<svg xmlns=\"http://www.w3.org/2000/svg\" height=\"24px\"viewBox=\"0 0 24 24\"\n",
              "     width=\"24px\">\n",
              "    <g>\n",
              "        <path d=\"M19 3H5c-1.1 0-2 .9-2 2v14c0 1.1.9 2 2 2h14c1.1 0 2-.9 2-2V5c0-1.1-.9-2-2-2zM9 17H7v-7h2v7zm4 0h-2V7h2v10zm4 0h-2v-4h2v4z\"/>\n",
              "    </g>\n",
              "</svg>\n",
              "  </button>\n",
              "\n",
              "<style>\n",
              "  .colab-df-quickchart {\n",
              "      --bg-color: #E8F0FE;\n",
              "      --fill-color: #1967D2;\n",
              "      --hover-bg-color: #E2EBFA;\n",
              "      --hover-fill-color: #174EA6;\n",
              "      --disabled-fill-color: #AAA;\n",
              "      --disabled-bg-color: #DDD;\n",
              "  }\n",
              "\n",
              "  [theme=dark] .colab-df-quickchart {\n",
              "      --bg-color: #3B4455;\n",
              "      --fill-color: #D2E3FC;\n",
              "      --hover-bg-color: #434B5C;\n",
              "      --hover-fill-color: #FFFFFF;\n",
              "      --disabled-bg-color: #3B4455;\n",
              "      --disabled-fill-color: #666;\n",
              "  }\n",
              "\n",
              "  .colab-df-quickchart {\n",
              "    background-color: var(--bg-color);\n",
              "    border: none;\n",
              "    border-radius: 50%;\n",
              "    cursor: pointer;\n",
              "    display: none;\n",
              "    fill: var(--fill-color);\n",
              "    height: 32px;\n",
              "    padding: 0;\n",
              "    width: 32px;\n",
              "  }\n",
              "\n",
              "  .colab-df-quickchart:hover {\n",
              "    background-color: var(--hover-bg-color);\n",
              "    box-shadow: 0 1px 2px rgba(60, 64, 67, 0.3), 0 1px 3px 1px rgba(60, 64, 67, 0.15);\n",
              "    fill: var(--button-hover-fill-color);\n",
              "  }\n",
              "\n",
              "  .colab-df-quickchart-complete:disabled,\n",
              "  .colab-df-quickchart-complete:disabled:hover {\n",
              "    background-color: var(--disabled-bg-color);\n",
              "    fill: var(--disabled-fill-color);\n",
              "    box-shadow: none;\n",
              "  }\n",
              "\n",
              "  .colab-df-spinner {\n",
              "    border: 2px solid var(--fill-color);\n",
              "    border-color: transparent;\n",
              "    border-bottom-color: var(--fill-color);\n",
              "    animation:\n",
              "      spin 1s steps(1) infinite;\n",
              "  }\n",
              "\n",
              "  @keyframes spin {\n",
              "    0% {\n",
              "      border-color: transparent;\n",
              "      border-bottom-color: var(--fill-color);\n",
              "      border-left-color: var(--fill-color);\n",
              "    }\n",
              "    20% {\n",
              "      border-color: transparent;\n",
              "      border-left-color: var(--fill-color);\n",
              "      border-top-color: var(--fill-color);\n",
              "    }\n",
              "    30% {\n",
              "      border-color: transparent;\n",
              "      border-left-color: var(--fill-color);\n",
              "      border-top-color: var(--fill-color);\n",
              "      border-right-color: var(--fill-color);\n",
              "    }\n",
              "    40% {\n",
              "      border-color: transparent;\n",
              "      border-right-color: var(--fill-color);\n",
              "      border-top-color: var(--fill-color);\n",
              "    }\n",
              "    60% {\n",
              "      border-color: transparent;\n",
              "      border-right-color: var(--fill-color);\n",
              "    }\n",
              "    80% {\n",
              "      border-color: transparent;\n",
              "      border-right-color: var(--fill-color);\n",
              "      border-bottom-color: var(--fill-color);\n",
              "    }\n",
              "    90% {\n",
              "      border-color: transparent;\n",
              "      border-bottom-color: var(--fill-color);\n",
              "    }\n",
              "  }\n",
              "</style>\n",
              "\n",
              "  <script>\n",
              "    async function quickchart(key) {\n",
              "      const quickchartButtonEl =\n",
              "        document.querySelector('#' + key + ' button');\n",
              "      quickchartButtonEl.disabled = true;  // To prevent multiple clicks.\n",
              "      quickchartButtonEl.classList.add('colab-df-spinner');\n",
              "      try {\n",
              "        const charts = await google.colab.kernel.invokeFunction(\n",
              "            'suggestCharts', [key], {});\n",
              "      } catch (error) {\n",
              "        console.error('Error during call to suggestCharts:', error);\n",
              "      }\n",
              "      quickchartButtonEl.classList.remove('colab-df-spinner');\n",
              "      quickchartButtonEl.classList.add('colab-df-quickchart-complete');\n",
              "    }\n",
              "    (() => {\n",
              "      let quickchartButtonEl =\n",
              "        document.querySelector('#df-959532fa-b858-4b4f-aaf7-decea545b6bc button');\n",
              "      quickchartButtonEl.style.display =\n",
              "        google.colab.kernel.accessAllowed ? 'block' : 'none';\n",
              "    })();\n",
              "  </script>\n",
              "</div>\n",
              "    </div>\n",
              "  </div>\n"
            ]
          },
          "metadata": {}
        }
      ]
    },
    {
      "cell_type": "code",
      "source": [
        "all_items = set(unique_items) | set(test_data['item_id'])\n",
        "\n",
        "train_interacted_items = {user: set(item[1] for item in record if item[0] == user_mapping[user]) for user in unique_users}\n",
        "\n",
        "predicted_ratings = {}\n",
        "for user in set(test_data['user_id']):\n",
        "    user_idx = user_mapping[user]\n",
        "    predicted_ratings[user] = {item: predict_rating(Matrix_P , Matrix_Q , item_mapping[item], user_idx) for item in all_items if item not in train_interacted_items[user]}\n",
        "\n"
      ],
      "metadata": {
        "id": "ubix1gqHUzW5"
      },
      "execution_count": 21,
      "outputs": []
    },
    {
      "cell_type": "markdown",
      "metadata": {
        "id": "p6-Ft4thuTgF"
      },
      "source": [
        "# **Evaluation**"
      ]
    },
    {
      "cell_type": "code",
      "execution_count": 22,
      "metadata": {
        "id": "ihvOfcGTwKZB"
      },
      "outputs": [],
      "source": [
        "from sklearn.metrics import recall_score\n",
        "\n",
        "def calculate_recall(predicted_ratings, ground_truth, topk=20):\n",
        "    recall_scores = []\n",
        "    for user, ratings in predicted_ratings.items():\n",
        "        # Get the top 20 items predicted for the user\n",
        "        top_20_predicted_items = sorted(ratings.items(), key=lambda x: x[1], reverse=True)[:topk]\n",
        "\n",
        "        # Get the actual items interacted by the user\n",
        "        actual_items = ground_truth[ground_truth['user_id'] == user]['interacted_items'].values[0]\n",
        "\n",
        "        actual_items_binary = [1 for item in actual_items]\n",
        "\n",
        "        # Convert the items to binary format (1 if the item is in the top 20 predicted items, 0 otherwise)\n",
        "        predicted_ratings_binary = [1 if item in dict(top_20_predicted_items) else 0 for item in actual_items]\n",
        "\n",
        "        # Calculate the recall for the user\n",
        "        recall_score_user = recall_score([actual_items_binary], [predicted_ratings_binary], average = 'weighted')\n",
        "        recall_scores.append(recall_score_user)\n",
        "\n",
        "\n",
        "    return np.mean(recall_scores)"
      ]
    },
    {
      "cell_type": "code",
      "execution_count": 23,
      "metadata": {
        "id": "S6HvHdx0wKZB"
      },
      "outputs": [],
      "source": [
        "from sklearn.metrics import ndcg_score\n",
        "\n",
        "def calculate_ndcg(predicted_ratings , ground_truth, topk=20):\n",
        "\n",
        "    ndcg_scores = []\n",
        "    for user, ratings in predicted_ratings.items():\n",
        "\n",
        "        # Get the top 20 items predicted for the user\n",
        "        top_20_predicted_items = sorted(ratings.items(), key=lambda x: x[1], reverse=True)[:topk]\n",
        "\n",
        "        # Get the actual items interacted by the user\n",
        "        actual_items = list(ground_truth[ground_truth['user_id'] == user]['interacted_items'].values[0])\n",
        "\n",
        "        actual_items_binary = [1 for item in actual_items]\n",
        "\n",
        "\n",
        "        predicted_ratings_binary = [dict(top_20_predicted_items).get(item, 0) if item in dict(top_20_predicted_items) else 0 for item in actual_items]\n",
        "\n",
        "\n",
        "        actual_items_binary = np.asarray([actual_items_binary])\n",
        "        predicted_ratings_binary = np.asarray([predicted_ratings_binary])\n",
        "\n",
        "        # Calculate the NDCG for the user\n",
        "        ndcg_score_user = ndcg_score(actual_items_binary, predicted_ratings_binary)\n",
        "        ndcg_scores.append(ndcg_score_user)\n",
        "\n",
        "\n",
        "    return np.mean(ndcg_scores)"
      ]
    },
    {
      "cell_type": "code",
      "execution_count": 24,
      "metadata": {
        "id": "qEzwDnwRwKZC"
      },
      "outputs": [],
      "source": [
        "from scipy import stats\n",
        "def calculate_rankcorrelation(predicted_ratings, ground_truth):\n",
        "\n",
        "    spearman_scores = []\n",
        "    for user, ratings in predicted_ratings.items():\n",
        "\n",
        "        predicted_items = sorted(ratings.items(), key=lambda x: x[1], reverse=True)\n",
        "\n",
        "\n",
        "        # Get the actual items interacted by the user\n",
        "        actual_items = list(ground_truth[ground_truth['user_id'] == user]['interacted_items'].values[0])\n",
        "\n",
        "        actual_items_ranking = list(range(1, len(actual_items) + 1)) # Assign ranks to actual items\n",
        "\n",
        "\n",
        "\n",
        "      # Assign ranks to actual items based on their scores in the predicted list\n",
        "\n",
        "        actual_items_ranking_in_predicted_list = [next((index + 1 for index, item in enumerate(predicted_items) if item[0] == target), None)  for target in actual_items]\n",
        "\n",
        "        # Calculate the sperman correlation for the user\n",
        "        spearman_score_user ,_ = stats.spearmanr(actual_items_ranking, actual_items_ranking_in_predicted_list )\n",
        "        spearman_scores.append(spearman_score_user)\n",
        "\n",
        "    return np.mean(spearman_scores)"
      ]
    },
    {
      "cell_type": "code",
      "execution_count": 25,
      "metadata": {
        "colab": {
          "base_uri": "https://localhost:8080/"
        },
        "id": "i58KcvhowKZC",
        "outputId": "28f1487c-f7b2-4f5a-c362-cbc3269c73a8"
      },
      "outputs": [
        {
          "output_type": "stream",
          "name": "stdout",
          "text": [
            "recall score is :  0.02820443859622964\n",
            "rank correlation(spearman) is :  0.028703421845060202\n",
            "ndcg score is :  1.0\n"
          ]
        }
      ],
      "source": [
        "print(\"recall score is : \" , calculate_recall(predicted_ratings, ground_truth))\n",
        "\n",
        "print(\"rank correlation(spearman) is : \" , calculate_rankcorrelation(predicted_ratings , ground_truth) )\n",
        "\n",
        "print(\"ndcg score is : \" , calculate_ndcg(predicted_ratings, ground_truth))\n"
      ]
    }
  ]
}